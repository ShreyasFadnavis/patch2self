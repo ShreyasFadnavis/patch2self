{
 "cells": [
  {
   "cell_type": "code",
   "execution_count": 7,
   "metadata": {},
   "outputs": [],
   "source": [
    "import sys\n",
    "sys.path.append(\"..\")\n",
    "\n",
    "import numpy as np\n",
    "import time\n",
    "import matplotlib.pyplot as plt\n",
    "from model.patch2self import patch2self\n",
    "from dipy.io.image import save_nifti, load_nifti\n",
    "from dipy.data import read_stanford_labels"
   ]
  },
  {
   "cell_type": "code",
   "execution_count": 8,
   "metadata": {},
   "outputs": [
    {
     "name": "stderr",
     "output_type": "stream",
     "text": [
      "C:\\Users\\shrey\\Anaconda3\\lib\\site-packages\\ipykernel_launcher.py:2: DeprecationWarning: get_data() is deprecated in favor of get_fdata(), which has a more predictable return type. To obtain get_data() behavior going forward, use numpy.asanyarray(img.dataobj).\n",
      "\n",
      "* deprecated from version: 3.0\n",
      "* Will raise <class 'nibabel.deprecator.ExpiredDeprecationError'> as of version: 5.0\n",
      "  \n"
     ]
    }
   ],
   "source": [
    "hardi_img, gtab, labels_img = read_stanford_labels()\n",
    "data = hardi_img.get_data()\n",
    "affine = np.eye(4)"
   ]
  },
  {
   "cell_type": "code",
   "execution_count": null,
   "metadata": {
    "scrolled": true
   },
   "outputs": [
    {
     "name": "stdout",
     "output_type": "stream",
     "text": [
      "(160, 1, 652536)\n",
      "Patch Extraction Done...\n",
      "Training with patch-radius:  [0 0 0]\n",
      " -> Trained to Denoise Volume:  0\n",
      "Denoising Volume  0  Complete...\n",
      " -> Trained to Denoise Volume:  1\n",
      "Denoising Volume  1  Complete...\n",
      " -> Trained to Denoise Volume:  2\n",
      "Denoising Volume  2  Complete...\n",
      " -> Trained to Denoise Volume:  3\n",
      "Denoising Volume  3  Complete...\n",
      " -> Trained to Denoise Volume:  4\n",
      "Denoising Volume  4  Complete...\n",
      " -> Trained to Denoise Volume:  5\n",
      "Denoising Volume  5  Complete...\n",
      " -> Trained to Denoise Volume:  6\n",
      "Denoising Volume  6  Complete...\n",
      " -> Trained to Denoise Volume:  7\n",
      "Denoising Volume  7  Complete...\n",
      " -> Trained to Denoise Volume:  8\n",
      "Denoising Volume  8  Complete...\n",
      " -> Trained to Denoise Volume:  9\n",
      "Denoising Volume  9  Complete...\n",
      " -> Trained to Denoise Volume:  10\n",
      "Denoising Volume  10  Complete...\n",
      " -> Trained to Denoise Volume:  11\n",
      "Denoising Volume  11  Complete...\n",
      " -> Trained to Denoise Volume:  12\n",
      "Denoising Volume  12  Complete...\n",
      " -> Trained to Denoise Volume:  13\n",
      "Denoising Volume  13  Complete...\n",
      " -> Trained to Denoise Volume:  14\n",
      "Denoising Volume  14  Complete...\n"
     ]
    }
   ],
   "source": [
    "t1 = time.time()\n",
    "denoised_sh = patch2self(data, model='ols')\n",
    "t2 = time.time()\n",
    "print('Time Taken: ', t2-t1)"
   ]
  },
  {
   "cell_type": "code",
   "execution_count": null,
   "metadata": {},
   "outputs": [],
   "source": [
    "sli = 35\n",
    "vol = 127\n",
    "orig1 = data[:, :, sli, vol]\n",
    "\n",
    "den1 = denoised_sh[:, :, sli, vol]\n",
    "rms_diff1 = np.sqrt((orig1 - den1) ** 2)\n",
    "\n",
    "fig, ax = plt.subplots(1, 3, figsize=(30, 30))\n",
    "ax[0].imshow(orig1.T, cmap='gray', origin='lower', interpolation='None')\n",
    "ax[0].set_title('Original')\n",
    "ax[0].set_axis_off()\n",
    "ax[1].imshow(den1.T, cmap='gray', origin='lower', interpolation='None')\n",
    "ax[1].set_title('Patch2Self')\n",
    "ax[1].set_axis_off()\n",
    "ax[2].imshow(rms_diff1.T, cmap='gray', origin='lower', interpolation='None')\n",
    "ax[2].set_title('Residual')\n",
    "ax[2].set_axis_off()\n",
    "plt.show()"
   ]
  }
 ],
 "metadata": {
  "kernelspec": {
   "display_name": "Python 3",
   "language": "python",
   "name": "python3"
  },
  "language_info": {
   "codemirror_mode": {
    "name": "ipython",
    "version": 3
   },
   "file_extension": ".py",
   "mimetype": "text/x-python",
   "name": "python",
   "nbconvert_exporter": "python",
   "pygments_lexer": "ipython3",
   "version": "3.7.4"
  }
 },
 "nbformat": 4,
 "nbformat_minor": 2
}
