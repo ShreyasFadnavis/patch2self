{
 "cells": [
  {
   "cell_type": "markdown",
   "metadata": {},
   "source": [
    "# Model Fitting comparison"
   ]
  },
  {
   "cell_type": "code",
   "execution_count": 2,
   "metadata": {},
   "outputs": [],
   "source": [
    "import sys\n",
    "sys.path.append('..')\n",
    "from model.patch2self import patch2self\n",
    "\n",
    "import numpy as np\n",
    "np.random.RandomState(seed=2014)\n",
    "import matplotlib.pyplot as plt\n",
    "\n",
    "import dipy.data as dpd\n",
    "import dipy.reconst.cross_validation as xval\n",
    "import dipy.reconst.dti as dti\n",
    "import dipy.reconst.csdeconv as csd\n",
    "from dipy.reconst.shm import CsaOdfModel\n",
    "import scipy.stats as stats\n",
    "from dipy.io.image import load_nifti"
   ]
  },
  {
   "cell_type": "markdown",
   "metadata": {},
   "source": [
    "#### Denoise the data with Patch2Self and load the denoised Marchenko-Pastur denoised data"
   ]
  },
  {
   "cell_type": "code",
   "execution_count": 3,
   "metadata": {
    "scrolled": true
   },
   "outputs": [
    {
     "name": "stdout",
     "output_type": "stream",
     "text": [
      "(160, 1, 652536)\n",
      "Patch Extraction Done...\n",
      "Training with patch-radius:  [0 0 0]\n",
      " -> Trained to Denoise Volume:  0\n",
      "Denoising Volume  0  Complete...\n",
      " -> Trained to Denoise Volume:  1\n",
      "Denoising Volume  1  Complete...\n",
      " -> Trained to Denoise Volume:  2\n",
      "Denoising Volume  2  Complete...\n",
      " -> Trained to Denoise Volume:  3\n",
      "Denoising Volume  3  Complete...\n",
      " -> Trained to Denoise Volume:  4\n",
      "Denoising Volume  4  Complete...\n",
      " -> Trained to Denoise Volume:  5\n",
      "Denoising Volume  5  Complete...\n",
      " -> Trained to Denoise Volume:  6\n",
      "Denoising Volume  6  Complete...\n",
      " -> Trained to Denoise Volume:  7\n",
      "Denoising Volume  7  Complete...\n",
      " -> Trained to Denoise Volume:  8\n",
      "Denoising Volume  8  Complete...\n",
      " -> Trained to Denoise Volume:  9\n",
      "Denoising Volume  9  Complete...\n",
      " -> Trained to Denoise Volume:  10\n",
      "Denoising Volume  10  Complete...\n",
      " -> Trained to Denoise Volume:  11\n",
      "Denoising Volume  11  Complete...\n",
      " -> Trained to Denoise Volume:  12\n",
      "Denoising Volume  12  Complete...\n",
      " -> Trained to Denoise Volume:  13\n",
      "Denoising Volume  13  Complete...\n",
      " -> Trained to Denoise Volume:  14\n",
      "Denoising Volume  14  Complete...\n",
      " -> Trained to Denoise Volume:  15\n",
      "Denoising Volume  15  Complete...\n",
      " -> Trained to Denoise Volume:  16\n",
      "Denoising Volume  16  Complete...\n",
      " -> Trained to Denoise Volume:  17\n",
      "Denoising Volume  17  Complete...\n",
      " -> Trained to Denoise Volume:  18\n",
      "Denoising Volume  18  Complete...\n",
      " -> Trained to Denoise Volume:  19\n",
      "Denoising Volume  19  Complete...\n",
      " -> Trained to Denoise Volume:  20\n",
      "Denoising Volume  20  Complete...\n",
      " -> Trained to Denoise Volume:  21\n",
      "Denoising Volume  21  Complete...\n",
      " -> Trained to Denoise Volume:  22\n",
      "Denoising Volume  22  Complete...\n",
      " -> Trained to Denoise Volume:  23\n",
      "Denoising Volume  23  Complete...\n",
      " -> Trained to Denoise Volume:  24\n",
      "Denoising Volume  24  Complete...\n",
      " -> Trained to Denoise Volume:  25\n",
      "Denoising Volume  25  Complete...\n",
      " -> Trained to Denoise Volume:  26\n",
      "Denoising Volume  26  Complete...\n",
      " -> Trained to Denoise Volume:  27\n",
      "Denoising Volume  27  Complete...\n",
      " -> Trained to Denoise Volume:  28\n",
      "Denoising Volume  28  Complete...\n",
      " -> Trained to Denoise Volume:  29\n",
      "Denoising Volume  29  Complete...\n",
      " -> Trained to Denoise Volume:  30\n",
      "Denoising Volume  30  Complete...\n",
      " -> Trained to Denoise Volume:  31\n",
      "Denoising Volume  31  Complete...\n",
      " -> Trained to Denoise Volume:  32\n",
      "Denoising Volume  32  Complete...\n",
      " -> Trained to Denoise Volume:  33\n",
      "Denoising Volume  33  Complete...\n",
      " -> Trained to Denoise Volume:  34\n",
      "Denoising Volume  34  Complete...\n",
      " -> Trained to Denoise Volume:  35\n",
      "Denoising Volume  35  Complete...\n",
      " -> Trained to Denoise Volume:  36\n",
      "Denoising Volume  36  Complete...\n",
      " -> Trained to Denoise Volume:  37\n",
      "Denoising Volume  37  Complete...\n",
      " -> Trained to Denoise Volume:  38\n",
      "Denoising Volume  38  Complete...\n",
      " -> Trained to Denoise Volume:  39\n",
      "Denoising Volume  39  Complete...\n",
      " -> Trained to Denoise Volume:  40\n",
      "Denoising Volume  40  Complete...\n",
      " -> Trained to Denoise Volume:  41\n",
      "Denoising Volume  41  Complete...\n",
      " -> Trained to Denoise Volume:  42\n",
      "Denoising Volume  42  Complete...\n",
      " -> Trained to Denoise Volume:  43\n",
      "Denoising Volume  43  Complete...\n",
      " -> Trained to Denoise Volume:  44\n",
      "Denoising Volume  44  Complete...\n",
      " -> Trained to Denoise Volume:  45\n",
      "Denoising Volume  45  Complete...\n",
      " -> Trained to Denoise Volume:  46\n",
      "Denoising Volume  46  Complete...\n",
      " -> Trained to Denoise Volume:  47\n",
      "Denoising Volume  47  Complete...\n",
      " -> Trained to Denoise Volume:  48\n",
      "Denoising Volume  48  Complete...\n",
      " -> Trained to Denoise Volume:  49\n",
      "Denoising Volume  49  Complete...\n",
      " -> Trained to Denoise Volume:  50\n",
      "Denoising Volume  50  Complete...\n",
      " -> Trained to Denoise Volume:  51\n",
      "Denoising Volume  51  Complete...\n",
      " -> Trained to Denoise Volume:  52\n",
      "Denoising Volume  52  Complete...\n",
      " -> Trained to Denoise Volume:  53\n",
      "Denoising Volume  53  Complete...\n",
      " -> Trained to Denoise Volume:  54\n",
      "Denoising Volume  54  Complete...\n",
      " -> Trained to Denoise Volume:  55\n",
      "Denoising Volume  55  Complete...\n",
      " -> Trained to Denoise Volume:  56\n",
      "Denoising Volume  56  Complete...\n",
      " -> Trained to Denoise Volume:  57\n",
      "Denoising Volume  57  Complete...\n",
      " -> Trained to Denoise Volume:  58\n",
      "Denoising Volume  58  Complete...\n",
      " -> Trained to Denoise Volume:  59\n",
      "Denoising Volume  59  Complete...\n",
      " -> Trained to Denoise Volume:  60\n",
      "Denoising Volume  60  Complete...\n",
      " -> Trained to Denoise Volume:  61\n",
      "Denoising Volume  61  Complete...\n",
      " -> Trained to Denoise Volume:  62\n",
      "Denoising Volume  62  Complete...\n",
      " -> Trained to Denoise Volume:  63\n",
      "Denoising Volume  63  Complete...\n",
      " -> Trained to Denoise Volume:  64\n",
      "Denoising Volume  64  Complete...\n",
      " -> Trained to Denoise Volume:  65\n",
      "Denoising Volume  65  Complete...\n",
      " -> Trained to Denoise Volume:  66\n",
      "Denoising Volume  66  Complete...\n",
      " -> Trained to Denoise Volume:  67\n",
      "Denoising Volume  67  Complete...\n",
      " -> Trained to Denoise Volume:  68\n",
      "Denoising Volume  68  Complete...\n",
      " -> Trained to Denoise Volume:  69\n",
      "Denoising Volume  69  Complete...\n",
      " -> Trained to Denoise Volume:  70\n",
      "Denoising Volume  70  Complete...\n",
      " -> Trained to Denoise Volume:  71\n",
      "Denoising Volume  71  Complete...\n",
      " -> Trained to Denoise Volume:  72\n",
      "Denoising Volume  72  Complete...\n",
      " -> Trained to Denoise Volume:  73\n",
      "Denoising Volume  73  Complete...\n",
      " -> Trained to Denoise Volume:  74\n",
      "Denoising Volume  74  Complete...\n",
      " -> Trained to Denoise Volume:  75\n",
      "Denoising Volume  75  Complete...\n",
      " -> Trained to Denoise Volume:  76\n",
      "Denoising Volume  76  Complete...\n",
      " -> Trained to Denoise Volume:  77\n",
      "Denoising Volume  77  Complete...\n",
      " -> Trained to Denoise Volume:  78\n",
      "Denoising Volume  78  Complete...\n",
      " -> Trained to Denoise Volume:  79\n",
      "Denoising Volume  79  Complete...\n",
      " -> Trained to Denoise Volume:  80\n",
      "Denoising Volume  80  Complete...\n",
      " -> Trained to Denoise Volume:  81\n",
      "Denoising Volume  81  Complete...\n",
      " -> Trained to Denoise Volume:  82\n",
      "Denoising Volume  82  Complete...\n",
      " -> Trained to Denoise Volume:  83\n",
      "Denoising Volume  83  Complete...\n",
      " -> Trained to Denoise Volume:  84\n",
      "Denoising Volume  84  Complete...\n",
      " -> Trained to Denoise Volume:  85\n",
      "Denoising Volume  85  Complete...\n",
      " -> Trained to Denoise Volume:  86\n",
      "Denoising Volume  86  Complete...\n",
      " -> Trained to Denoise Volume:  87\n",
      "Denoising Volume  87  Complete...\n",
      " -> Trained to Denoise Volume:  88\n",
      "Denoising Volume  88  Complete...\n",
      " -> Trained to Denoise Volume:  89\n",
      "Denoising Volume  89  Complete...\n",
      " -> Trained to Denoise Volume:  90\n",
      "Denoising Volume  90  Complete...\n",
      " -> Trained to Denoise Volume:  91\n",
      "Denoising Volume  91  Complete...\n",
      " -> Trained to Denoise Volume:  92\n",
      "Denoising Volume  92  Complete...\n",
      " -> Trained to Denoise Volume:  93\n",
      "Denoising Volume  93  Complete...\n",
      " -> Trained to Denoise Volume:  94\n",
      "Denoising Volume  94  Complete...\n",
      " -> Trained to Denoise Volume:  95\n",
      "Denoising Volume  95  Complete...\n",
      " -> Trained to Denoise Volume:  96\n",
      "Denoising Volume  96  Complete...\n",
      " -> Trained to Denoise Volume:  97\n",
      "Denoising Volume  97  Complete...\n",
      " -> Trained to Denoise Volume:  98\n",
      "Denoising Volume  98  Complete...\n",
      " -> Trained to Denoise Volume:  99\n",
      "Denoising Volume  99  Complete...\n",
      " -> Trained to Denoise Volume:  100\n",
      "Denoising Volume  100  Complete...\n",
      " -> Trained to Denoise Volume:  101\n",
      "Denoising Volume  101  Complete...\n",
      " -> Trained to Denoise Volume:  102\n",
      "Denoising Volume  102  Complete...\n",
      " -> Trained to Denoise Volume:  103\n",
      "Denoising Volume  103  Complete...\n",
      " -> Trained to Denoise Volume:  104\n",
      "Denoising Volume  104  Complete...\n",
      " -> Trained to Denoise Volume:  105\n",
      "Denoising Volume  105  Complete...\n",
      " -> Trained to Denoise Volume:  106\n",
      "Denoising Volume  106  Complete...\n",
      " -> Trained to Denoise Volume:  107\n",
      "Denoising Volume  107  Complete...\n",
      " -> Trained to Denoise Volume:  108\n",
      "Denoising Volume  108  Complete...\n",
      " -> Trained to Denoise Volume:  109\n",
      "Denoising Volume  109  Complete...\n",
      " -> Trained to Denoise Volume:  110\n",
      "Denoising Volume  110  Complete...\n",
      " -> Trained to Denoise Volume:  111\n",
      "Denoising Volume  111  Complete...\n",
      " -> Trained to Denoise Volume:  112\n",
      "Denoising Volume  112  Complete...\n",
      " -> Trained to Denoise Volume:  113\n",
      "Denoising Volume  113  Complete...\n",
      " -> Trained to Denoise Volume:  114\n",
      "Denoising Volume  114  Complete...\n",
      " -> Trained to Denoise Volume:  115\n",
      "Denoising Volume  115  Complete...\n",
      " -> Trained to Denoise Volume:  116\n",
      "Denoising Volume  116  Complete...\n",
      " -> Trained to Denoise Volume:  117\n"
     ]
    },
    {
     "name": "stdout",
     "output_type": "stream",
     "text": [
      "Denoising Volume  117  Complete...\n",
      " -> Trained to Denoise Volume:  118\n",
      "Denoising Volume  118  Complete...\n",
      " -> Trained to Denoise Volume:  119\n",
      "Denoising Volume  119  Complete...\n",
      " -> Trained to Denoise Volume:  120\n",
      "Denoising Volume  120  Complete...\n",
      " -> Trained to Denoise Volume:  121\n",
      "Denoising Volume  121  Complete...\n",
      " -> Trained to Denoise Volume:  122\n",
      "Denoising Volume  122  Complete...\n",
      " -> Trained to Denoise Volume:  123\n",
      "Denoising Volume  123  Complete...\n",
      " -> Trained to Denoise Volume:  124\n",
      "Denoising Volume  124  Complete...\n",
      " -> Trained to Denoise Volume:  125\n",
      "Denoising Volume  125  Complete...\n",
      " -> Trained to Denoise Volume:  126\n",
      "Denoising Volume  126  Complete...\n",
      " -> Trained to Denoise Volume:  127\n",
      "Denoising Volume  127  Complete...\n",
      " -> Trained to Denoise Volume:  128\n",
      "Denoising Volume  128  Complete...\n",
      " -> Trained to Denoise Volume:  129\n",
      "Denoising Volume  129  Complete...\n",
      " -> Trained to Denoise Volume:  130\n",
      "Denoising Volume  130  Complete...\n",
      " -> Trained to Denoise Volume:  131\n",
      "Denoising Volume  131  Complete...\n",
      " -> Trained to Denoise Volume:  132\n",
      "Denoising Volume  132  Complete...\n",
      " -> Trained to Denoise Volume:  133\n",
      "Denoising Volume  133  Complete...\n",
      " -> Trained to Denoise Volume:  134\n",
      "Denoising Volume  134  Complete...\n",
      " -> Trained to Denoise Volume:  135\n",
      "Denoising Volume  135  Complete...\n",
      " -> Trained to Denoise Volume:  136\n",
      "Denoising Volume  136  Complete...\n",
      " -> Trained to Denoise Volume:  137\n",
      "Denoising Volume  137  Complete...\n",
      " -> Trained to Denoise Volume:  138\n",
      "Denoising Volume  138  Complete...\n",
      " -> Trained to Denoise Volume:  139\n",
      "Denoising Volume  139  Complete...\n",
      " -> Trained to Denoise Volume:  140\n",
      "Denoising Volume  140  Complete...\n",
      " -> Trained to Denoise Volume:  141\n",
      "Denoising Volume  141  Complete...\n",
      " -> Trained to Denoise Volume:  142\n",
      "Denoising Volume  142  Complete...\n",
      " -> Trained to Denoise Volume:  143\n",
      "Denoising Volume  143  Complete...\n",
      " -> Trained to Denoise Volume:  144\n",
      "Denoising Volume  144  Complete...\n",
      " -> Trained to Denoise Volume:  145\n",
      "Denoising Volume  145  Complete...\n",
      " -> Trained to Denoise Volume:  146\n",
      "Denoising Volume  146  Complete...\n",
      " -> Trained to Denoise Volume:  147\n",
      "Denoising Volume  147  Complete...\n",
      " -> Trained to Denoise Volume:  148\n",
      "Denoising Volume  148  Complete...\n",
      " -> Trained to Denoise Volume:  149\n",
      "Denoising Volume  149  Complete...\n",
      " -> Trained to Denoise Volume:  150\n",
      "Denoising Volume  150  Complete...\n",
      " -> Trained to Denoise Volume:  151\n",
      "Denoising Volume  151  Complete...\n",
      " -> Trained to Denoise Volume:  152\n",
      "Denoising Volume  152  Complete...\n",
      " -> Trained to Denoise Volume:  153\n",
      "Denoising Volume  153  Complete...\n",
      " -> Trained to Denoise Volume:  154\n",
      "Denoising Volume  154  Complete...\n",
      " -> Trained to Denoise Volume:  155\n",
      "Denoising Volume  155  Complete...\n",
      " -> Trained to Denoise Volume:  156\n",
      "Denoising Volume  156  Complete...\n",
      " -> Trained to Denoise Volume:  157\n",
      "Denoising Volume  157  Complete...\n",
      " -> Trained to Denoise Volume:  158\n",
      "Denoising Volume  158  Complete...\n",
      " -> Trained to Denoise Volume:  159\n",
      "Denoising Volume  159  Complete...\n"
     ]
    }
   ],
   "source": [
    "dpd.fetch_stanford_hardi()\n",
    "hardi_fname, hardi_bval_fname, hardi_bvec_fname = dpd.get_fnames('stanford_hardi')\n",
    "img, gtab = dpd.read_stanford_hardi()\n",
    "data, affine = load_nifti(hardi_fname)\n",
    "data_p2s = patch2self(data, model='ridge')\n",
    "data_mppca, _ = load_nifti('dwi_mppca.nii') "
   ]
  },
  {
   "cell_type": "markdown",
   "metadata": {},
   "source": [
    "#### Select 1 slice across all DWI volumes"
   ]
  },
  {
   "cell_type": "code",
   "execution_count": 4,
   "metadata": {},
   "outputs": [],
   "source": [
    "data_slice = data[..., 38:39, :]\n",
    "data_slice_p2s = data_p2s[..., 38:39, :]\n",
    "data_slice_mp = data_mppca[..., 38:39, :]"
   ]
  },
  {
   "cell_type": "code",
   "execution_count": 5,
   "metadata": {},
   "outputs": [
    {
     "name": "stderr",
     "output_type": "stream",
     "text": [
      "C:\\Users\\shrey\\Anaconda3\\lib\\site-packages\\dask\\config.py:168: YAMLLoadWarning: calling yaml.load() without Loader=... is deprecated, as the default Loader is unsafe. Please read https://msg.pyyaml.org/load for full details.\n",
      "  data = yaml.load(f.read()) or {}\n"
     ]
    }
   ],
   "source": [
    "from dipy.segment.mask import median_otsu\n",
    "_, mask = median_otsu(data, vol_idx=[0, 1])"
   ]
  },
  {
   "cell_type": "code",
   "execution_count": 6,
   "metadata": {},
   "outputs": [],
   "source": [
    "data_slice[mask[..., 38:39]==0] = 0\n",
    "data_slice_p2s[mask[..., 38:39]==0] = 0\n",
    "data_slice_mp[mask[..., 38:39]==0] = 0"
   ]
  },
  {
   "cell_type": "markdown",
   "metadata": {},
   "source": [
    "#### Initialize the models to fit to the data: DTI and CSD"
   ]
  },
  {
   "cell_type": "code",
   "execution_count": 7,
   "metadata": {},
   "outputs": [],
   "source": [
    "dti_model = dti.TensorModel(gtab)\n",
    "response, ratio = csd.auto_response(gtab, data, \n",
    "                                    roi_radius=10, fa_thr=0.7)\n",
    "csd_model = csd.ConstrainedSphericalDeconvModel(gtab, response)\n",
    "\n",
    "dti_model = dti.TensorModel(gtab)\n",
    "response_p2s, ratio = csd.auto_response(gtab, data_p2s, \n",
    "                                        roi_radius=10, fa_thr=0.7)\n",
    "csd_model = csd.ConstrainedSphericalDeconvModel(gtab, response)\n",
    "\n",
    "dti_model = dti.TensorModel(gtab)\n",
    "response_mp, ratio = csd.auto_response(gtab, data_mppca, \n",
    "                                       roi_radius=10, fa_thr=0.7)\n",
    "csd_model = csd.ConstrainedSphericalDeconvModel(gtab, response)"
   ]
  },
  {
   "cell_type": "markdown",
   "metadata": {},
   "source": [
    "#### Run the 2-Fold Crossvalidation for each model"
   ]
  },
  {
   "cell_type": "code",
   "execution_count": 8,
   "metadata": {
    "scrolled": true
   },
   "outputs": [],
   "source": [
    "dti_slice = xval.kfold_xval(dti_model, data_slice, 2)\n",
    "csd_slice = xval.kfold_xval(csd_model, data_slice, 2, response)\n",
    "\n",
    "dti_slice_P2S = xval.kfold_xval(dti_model, data_slice_p2s, 2)\n",
    "csd_slice_P2S = xval.kfold_xval(csd_model, data_slice_p2s, 2, response_p2s)\n",
    "\n",
    "dti_slice_MP = xval.kfold_xval(dti_model, data_slice_mp, 2)\n",
    "csd_slice_MP = xval.kfold_xval(csd_model, data_slice_mp, 2, response_mp)"
   ]
  },
  {
   "cell_type": "markdown",
   "metadata": {},
   "source": [
    "#### Append all the scores for each model on each dataset via both models: CSD and DTI"
   ]
  },
  {
   "cell_type": "code",
   "execution_count": 9,
   "metadata": {},
   "outputs": [
    {
     "name": "stderr",
     "output_type": "stream",
     "text": [
      "C:\\Users\\shrey\\Anaconda3\\lib\\site-packages\\scipy\\stats\\stats.py:3508: PearsonRConstantInputWarning: An input array is constant; the correlation coefficent is not defined.\n",
      "  warnings.warn(PearsonRConstantInputWarning())\n"
     ]
    }
   ],
   "source": [
    "r2s_dti = []\n",
    "for i in range(0, dti_slice.shape[0]):\n",
    "    for j in range(0, dti_slice.shape[1]):\n",
    "        for k in range(0, dti_slice.shape[2]):\n",
    "            dti_r2 = stats.pearsonr(data_slice[i, j, k, :], dti_slice[i, j, k, :])[0]**2\n",
    "            r2s_dti.append(dti_r2)\n",
    "r2s_dti = np.array(r2s_dti)\n",
    "r2s_dti = r2s_dti[~np.isnan(r2s_dti)]\n",
    "\n",
    "r2s_csd = []\n",
    "for i in range(0, csd_slice.shape[0]):\n",
    "    for j in range(0, csd_slice.shape[1]):\n",
    "        for k in range(0, csd_slice.shape[2]):\n",
    "            csd_r2 = stats.pearsonr(data_slice[i, j, k, :], csd_slice[i, j, k, :])[0]**2\n",
    "            r2s_csd.append(csd_r2)\n",
    "r2s_csd = np.array(r2s_csd)\n",
    "r2s_csd = r2s_csd[~np.isnan(r2s_csd)]"
   ]
  },
  {
   "cell_type": "code",
   "execution_count": 10,
   "metadata": {},
   "outputs": [],
   "source": [
    "r2s_dti_mp = []\n",
    "for i in range(0, dti_slice.shape[0]):\n",
    "    for j in range(0, dti_slice.shape[1]):\n",
    "        for k in range(0, dti_slice.shape[2]):\n",
    "            dti_r2_mp = stats.pearsonr(data_slice[i, j, k, :], dti_slice_MP[i, j, k, :])[0]**2\n",
    "            r2s_dti_mp.append(dti_r2_mp)\n",
    "r2s_dti_mp = np.array(r2s_dti_mp)\n",
    "r2s_dti_mp = r2s_dti_mp[~np.isnan(r2s_dti_mp)]\n",
    "\n",
    "r2s_csd_mp = []\n",
    "for i in range(0, csd_slice.shape[0]):\n",
    "    for j in range(0, csd_slice.shape[1]):\n",
    "        for k in range(0, csd_slice.shape[2]):\n",
    "            csd_r2_mp = stats.pearsonr(data_slice[i, j, k, :], csd_slice_MP[i, j, k, :])[0]**2\n",
    "            r2s_csd_mp.append(csd_r2_mp)\n",
    "r2s_csd_mp = np.array(r2s_csd_mp)\n",
    "r2s_csd_mp = r2s_csd_mp[~np.isnan(r2s_csd_mp)]"
   ]
  },
  {
   "cell_type": "code",
   "execution_count": 11,
   "metadata": {},
   "outputs": [],
   "source": [
    "r2s_dti_p2s = []\n",
    "for i in range(0, dti_slice.shape[0]):\n",
    "    for j in range(0, dti_slice.shape[1]):\n",
    "        for k in range(0, dti_slice.shape[2]):\n",
    "            dti_r2_p2s = stats.pearsonr(data_slice[i, j, k, :], dti_slice_P2S[i, j, k, :])[0]**2\n",
    "            r2s_dti_p2s.append(dti_r2_p2s)\n",
    "r2s_dti_p2s = np.array(r2s_dti_p2s)\n",
    "r2s_dti_p2s = r2s_dti_p2s[~np.isnan(r2s_dti_p2s)]\n",
    "\n",
    "r2s_csd_p2s = []\n",
    "for i in range(0, csd_slice.shape[0]):\n",
    "    for j in range(0, csd_slice.shape[1]):\n",
    "        for k in range(0, csd_slice.shape[2]):\n",
    "            csd_r2_p2s = stats.pearsonr(data_slice[i, j, k, :], csd_slice_P2S[i, j, k, :])[0]**2\n",
    "            r2s_csd_p2s.append(csd_r2_p2s)\n",
    "r2s_csd_p2s = np.array(r2s_csd_p2s)\n",
    "r2s_csd_p2s = r2s_csd_p2s[~np.isnan(r2s_csd_p2s)]"
   ]
  },
  {
   "cell_type": "code",
   "execution_count": 12,
   "metadata": {},
   "outputs": [],
   "source": [
    "import pandas as pd\n",
    "\n",
    "df = pd.DataFrame({'Raw DTI':r2s_dti,\n",
    "                   'Raw CSD':r2s_csd,\n",
    "                   'Marchenko-Pastur DTI':r2s_dti_mp,\n",
    "                   'Marchenko-Pastur CSD':r2s_csd_mp,\n",
    "                   'Patch2Self DTI':r2s_dti_p2s,\n",
    "                   'Patch2Self CSD':r2s_csd_p2s})"
   ]
  },
  {
   "cell_type": "code",
   "execution_count": 13,
   "metadata": {},
   "outputs": [
    {
     "name": "stdout",
     "output_type": "stream",
     "text": [
      "(4606,) (4606,) (4606,)\n"
     ]
    }
   ],
   "source": [
    "print(r2s_csd.shape, r2s_csd_mp.shape, r2s_csd_p2s.shape)"
   ]
  },
  {
   "cell_type": "markdown",
   "metadata": {},
   "source": [
    "#### Subtract the $\\mathbf{R}^2$ scores of Noisy Data from both Marchenko-Pastur and Patch2Self"
   ]
  },
  {
   "cell_type": "code",
   "execution_count": 14,
   "metadata": {},
   "outputs": [],
   "source": [
    "df_diff = pd.DataFrame({'(MP - Noisy) DTI':r2s_dti_mp - r2s_dti,\n",
    "                        '(P2S - Noisy) DTI':r2s_dti_p2s - r2s_dti,\n",
    "                        '(MP - Noisy) CSD':r2s_csd_mp - r2s_csd,\n",
    "                        '(P2S - Noisy) CSD':r2s_csd_p2s - r2s_csd})"
   ]
  },
  {
   "cell_type": "markdown",
   "metadata": {},
   "source": [
    "#### Compute the Box-Plots and perform comparison using a 2-sided t-test "
   ]
  },
  {
   "cell_type": "code",
   "execution_count": 16,
   "metadata": {
    "scrolled": false
   },
   "outputs": [
    {
     "name": "stdout",
     "output_type": "stream",
     "text": [
      "p-value annotation legend:\n",
      "ns: 5.00e-02 < p <= 1.00e+00\n",
      "*: 1.00e-02 < p <= 5.00e-02\n",
      "**: 1.00e-03 < p <= 1.00e-02\n",
      "***: 1.00e-04 < p <= 1.00e-03\n",
      "****: p <= 1.00e-04\n",
      "\n",
      "(MP - Noisy) DTI v.s. (P2S - Noisy) DTI: t-test independent samples with Bonferroni correction, P_val=6.056e-45 stat=-1.419e+01\n",
      "(MP - Noisy) CSD v.s. (P2S - Noisy) CSD: t-test independent samples with Bonferroni correction, P_val=0.000e+00 stat=-4.059e+01\n"
     ]
    },
    {
     "data": {
      "text/plain": [
       "(<matplotlib.axes._subplots.AxesSubplot at 0x22fcd1365c8>,\n",
       " [<statannot.StatResult.StatResult at 0x22fca295748>,\n",
       "  <statannot.StatResult.StatResult at 0x22fcd1ed588>])"
      ]
     },
     "execution_count": 16,
     "metadata": {},
     "output_type": "execute_result"
    },
    {
     "data": {
      "image/png": "[encoded data removed]",
      "text/plain": [
       "<Figure size 432x288 with 1 Axes>"
      ]
     },
     "metadata": {},
     "output_type": "display_data"
    }
   ],
   "source": [
    "%matplotlib inline\n",
    "import seaborn as sns\n",
    "sns.set(style=\"whitegrid\")\n",
    "ax = sns.boxplot(x=\"variable\", y=\"value\", data=pd.melt(df_diff), fliersize=0, sym='', palette=\"Set2\")\n",
    "\n",
    "from statannot import add_stat_annotation\n",
    "add_stat_annotation(ax, data=pd.melt(df_diff), x=\"variable\", y=\"value\",\n",
    "                    box_pairs=[('(MP - Noisy) DTI', '(P2S - Noisy) DTI'), \n",
    "                               ('(MP - Noisy) CSD', '(P2S - Noisy) CSD')],\n",
    "                               test='t-test_ind', text_format='star', loc='outside', verbose=2)"
   ]
  }
 ],
 "metadata": {
  "kernelspec": {
   "display_name": "Python 3",
   "language": "python",
   "name": "python3"
  },
  "language_info": {
   "codemirror_mode": {
    "name": "ipython",
    "version": 3
   },
   "file_extension": ".py",
   "mimetype": "text/x-python",
   "name": "python",
   "nbconvert_exporter": "python",
   "pygments_lexer": "ipython3",
   "version": "3.7.4"
  }
 },
 "nbformat": 4,
 "nbformat_minor": 2
}
